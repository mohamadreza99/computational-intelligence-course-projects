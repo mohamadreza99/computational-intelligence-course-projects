{
  "nbformat": 4,
  "nbformat_minor": 0,
  "metadata": {
    "colab": {
      "name": "NLP_Final_PROJETC.ipynb",
      "provenance": [],
      "collapsed_sections": []
    },
    "kernelspec": {
      "display_name": "Python 3",
      "name": "python3"
    }
  },
  "cells": [
    {
      "cell_type": "code",
      "metadata": {
        "colab": {
          "base_uri": "https://localhost:8080/"
        },
        "id": "-R0S81X1akv6",
        "outputId": "dbcfcab9-b6d4-42bc-8991-95972d77881a"
      },
      "source": [
        "from google.colab import drive\n",
        "drive.mount('/content/gdrive')"
      ],
      "execution_count": 1,
      "outputs": [
        {
          "output_type": "stream",
          "text": [
            "Drive already mounted at /content/gdrive; to attempt to forcibly remount, call drive.mount(\"/content/gdrive\", force_remount=True).\n"
          ],
          "name": "stdout"
        }
      ]
    },
    {
      "cell_type": "code",
      "metadata": {
        "id": "--aJsIZdnE2I"
      },
      "source": [
        "import pandas as pd"
      ],
      "execution_count": 2,
      "outputs": []
    },
    {
      "cell_type": "markdown",
      "metadata": {
        "id": "Awy2MRU6fn7B"
      },
      "source": [
        "# if you want to upgrade the python version of colab to 3.8\n",
        "!!! you need to restrat runtime and install torchtext 0.8.0 after upgrading the python version"
      ]
    },
    {
      "cell_type": "code",
      "metadata": {
        "id": "VZmGADbN_7ih"
      },
      "source": [
        "# !pip install kora\n",
        "# import kora.install.py38"
      ],
      "execution_count": null,
      "outputs": []
    },
    {
      "cell_type": "code",
      "metadata": {
        "id": "8V2CSrcR1RKH"
      },
      "source": [
        "!pip install -U torchtext==0.8.0"
      ],
      "execution_count": null,
      "outputs": []
    },
    {
      "cell_type": "code",
      "metadata": {
        "colab": {
          "base_uri": "https://localhost:8080/"
        },
        "id": "zuT0ZEpM0TB5",
        "outputId": "eff125dc-3744-4905-bf61-1f1d4133cf52"
      },
      "source": [
        "!python -V"
      ],
      "execution_count": null,
      "outputs": [
        {
          "output_type": "stream",
          "text": [
            "Python 3.8.3\n"
          ],
          "name": "stdout"
        }
      ]
    },
    {
      "cell_type": "code",
      "metadata": {
        "colab": {
          "base_uri": "https://localhost:8080/"
        },
        "id": "j5nkQM9E5nyY",
        "outputId": "81c902be-634d-4b68-f09b-54c1a4b8eddd"
      },
      "source": [
        "!pip list | grep torchtext"
      ],
      "execution_count": null,
      "outputs": [
        {
          "output_type": "stream",
          "text": [
            "torchtext                          0.8.0\n"
          ],
          "name": "stdout"
        }
      ]
    },
    {
      "cell_type": "code",
      "metadata": {
        "id": "qfvqdDEywihW"
      },
      "source": [
        "df = pd.read_csv(\"/content/gdrive/MyDrive/ci/train.csv\", index_col=0)"
      ],
      "execution_count": 99,
      "outputs": []
    },
    {
      "cell_type": "code",
      "metadata": {
        "id": "6mOj4VVfwoet"
      },
      "source": [
        "from tqdm import tqdm"
      ],
      "execution_count": 100,
      "outputs": []
    },
    {
      "cell_type": "markdown",
      "metadata": {
        "id": "3BPn83rD6BCi"
      },
      "source": [
        "# preprocessing"
      ]
    },
    {
      "cell_type": "code",
      "metadata": {
        "id": "8FPFRvisxKLq"
      },
      "source": [
        "# !pip install hazm"
      ],
      "execution_count": null,
      "outputs": []
    },
    {
      "cell_type": "code",
      "metadata": {
        "id": "KKc550nTxOPX"
      },
      "source": [
        "from hazm import *"
      ],
      "execution_count": 84,
      "outputs": []
    },
    {
      "cell_type": "code",
      "metadata": {
        "colab": {
          "base_uri": "https://localhost:8080/"
        },
        "id": "PINIaW8Cwifi",
        "outputId": "e46f9a36-df03-4532-c751-7331f978d280"
      },
      "source": [
        "%%time\n",
        "normalizer = Normalizer(remove_extra_spaces=True)\n",
        "stemmer = Stemmer()\n",
        "tokenizer = SentenceTokenizer()\n",
        "lemmatizer = Lemmatizer()\n",
        "\n",
        "for index, row in tqdm(df.iterrows()):\n",
        "    s = row['Text']\n",
        "    s = normalizer.punctuation_spacing(s)\n",
        "    s = normalizer.character_refinement(s)\n",
        "    s = lemmatizer.lemmatize(s)\n",
        "    s = stemmer.stem(s)\n",
        "    s = ' '.join(tokenizer.tokenize(s))\n",
        "    for w in utils.stopwords_list():\n",
        "        s.replace(w, ' ')\n",
        "    s = normalizer.normalize(s)\n",
        "    df.loc[index, 'Text'] = s"
      ],
      "execution_count": 101,
      "outputs": [
        {
          "output_type": "stream",
          "text": [
            "147547it [11:41, 182.20it/s]\u001b[A\n",
            "147566it [11:42, 175.47it/s]\u001b[A\n",
            "147593it [11:42, 195.67it/s]\u001b[A\n",
            "147620it [11:42, 210.89it/s]\u001b[A\n",
            "147643it [11:42, 201.55it/s]\u001b[A\n",
            "147664it [11:42, 199.86it/s]\u001b[A\n",
            "147689it [11:42, 211.54it/s]\u001b[A\n",
            "147712it [11:42, 216.65it/s]\u001b[A\n",
            "147737it [11:42, 223.82it/s]\u001b[A\n",
            "147760it [11:42, 207.90it/s]\u001b[A\n",
            "147784it [11:43, 212.51it/s]\u001b[A\n",
            "147806it [11:43, 197.56it/s]\u001b[A\n",
            "147827it [11:43, 192.70it/s]\u001b[A\n",
            "147848it [11:43, 196.92it/s]\u001b[A\n",
            "147870it [11:43, 203.07it/s]\u001b[A\n",
            "147891it [11:43, 195.31it/s]\u001b[A\n",
            "147911it [11:43, 169.80it/s]\u001b[A\n",
            "147929it [11:43, 154.48it/s]\u001b[A\n",
            "147949it [11:43, 165.72it/s]\u001b[A\n",
            "147972it [11:44, 180.58it/s]\u001b[A\n",
            "147992it [11:44, 167.45it/s]\u001b[A\n",
            "148020it [11:44, 189.20it/s]\u001b[A\n",
            "148048it [11:44, 209.03it/s]\u001b[A\n",
            "148071it [11:44, 204.45it/s]\u001b[A\n",
            "148093it [11:44, 203.35it/s]\u001b[A\n",
            "148116it [11:44, 209.47it/s]\u001b[A\n",
            "148138it [11:44, 201.60it/s]\u001b[A\n",
            "148159it [11:44, 191.20it/s]\u001b[A\n",
            "148179it [11:45, 183.70it/s]\u001b[A\n",
            "148199it [11:45, 187.11it/s]\u001b[A\n",
            "148219it [11:45, 185.55it/s]\u001b[A\n",
            "148240it [11:45, 184.41it/s]\u001b[A\n",
            "148259it [11:45, 180.42it/s]\u001b[A\n",
            "148282it [11:45, 192.03it/s]\u001b[A\n",
            "148304it [11:45, 198.83it/s]\u001b[A\n",
            "148325it [11:45, 186.51it/s]\u001b[A\n",
            "148344it [11:45, 184.84it/s]\u001b[A\n",
            "148363it [11:46, 163.43it/s]\u001b[A\n",
            "148385it [11:46, 176.77it/s]\u001b[A\n",
            "148415it [11:46, 200.62it/s]\u001b[A\n",
            "148438it [11:46, 208.07it/s]\u001b[A\n",
            "148461it [11:46, 191.94it/s]\u001b[A\n",
            "148482it [11:46, 191.48it/s]\u001b[A\n",
            "148502it [11:46, 177.42it/s]\u001b[A\n",
            "148521it [11:46, 170.49it/s]\u001b[A\n",
            "148540it [11:47, 173.07it/s]\u001b[A\n",
            "148560it [11:47, 179.08it/s]\u001b[A\n",
            "148581it [11:47, 183.79it/s]\u001b[A\n",
            "148608it [11:47, 202.75it/s]\u001b[A\n",
            "148630it [11:47, 185.26it/s]\u001b[A\n",
            "148652it [11:47, 193.69it/s]\u001b[A\n",
            "148673it [11:47, 185.19it/s]\u001b[A\n",
            "148693it [11:47, 188.44it/s]\u001b[A\n",
            "148713it [11:47, 179.43it/s]\u001b[A\n",
            "148733it [11:48, 182.86it/s]\u001b[A\n",
            "148755it [11:48, 191.68it/s]\u001b[A\n",
            "148781it [11:48, 208.08it/s]\u001b[A\n",
            "148808it [11:48, 219.22it/s]\u001b[A\n",
            "148831it [11:48, 208.87it/s]\u001b[A\n",
            "148853it [11:48, 202.00it/s]\u001b[A\n",
            "148874it [11:48, 191.43it/s]\u001b[A\n",
            "148897it [11:48, 199.57it/s]\u001b[A\n",
            "148919it [11:48, 198.98it/s]\u001b[A\n",
            "148941it [11:49, 203.96it/s]\u001b[A\n",
            "148962it [11:49, 198.53it/s]\u001b[A\n",
            "148983it [11:49, 186.26it/s]\u001b[A\n",
            "149002it [11:49, 182.33it/s]\u001b[A\n",
            "149023it [11:49, 184.18it/s]\u001b[A\n",
            "149042it [11:49, 178.81it/s]\u001b[A\n",
            "149065it [11:49, 187.31it/s]\u001b[A\n",
            "149084it [11:49, 173.17it/s]\u001b[A\n",
            "149102it [11:49, 165.81it/s]\u001b[A\n",
            "149123it [11:50, 176.53it/s]\u001b[A\n",
            "149143it [11:50, 182.37it/s]\u001b[A\n",
            "149162it [11:50, 177.83it/s]\u001b[A\n",
            "149186it [11:50, 189.71it/s]\u001b[A\n",
            "149206it [11:50, 189.63it/s]\u001b[A\n",
            "149226it [11:50, 191.64it/s]\u001b[A\n",
            "149249it [11:50, 200.65it/s]\u001b[A\n",
            "149270it [11:50, 195.05it/s]\u001b[A\n",
            "149291it [11:50, 198.64it/s]\u001b[A\n",
            "149312it [11:51, 189.24it/s]\u001b[A\n",
            "149333it [11:51, 193.46it/s]\u001b[A\n",
            "149353it [11:51, 194.00it/s]\u001b[A\n",
            "149373it [11:51, 194.72it/s]\u001b[A\n",
            "149393it [11:51, 187.60it/s]\u001b[A\n",
            "149419it [11:51, 204.15it/s]\u001b[A\n",
            "149440it [11:51, 204.47it/s]\u001b[A\n",
            "149461it [11:51, 204.06it/s]\u001b[A\n",
            "149482it [11:51, 205.42it/s]\u001b[A\n",
            "149503it [11:51, 193.34it/s]\u001b[A\n",
            "149523it [11:52, 193.22it/s]\u001b[A\n",
            "149543it [11:52, 183.19it/s]\u001b[A\n",
            "149568it [11:52, 198.50it/s]\u001b[A\n",
            "149589it [11:52, 194.71it/s]\u001b[A\n",
            "149609it [11:52, 194.99it/s]\u001b[A\n",
            "149633it [11:52, 205.68it/s]\u001b[A\n",
            "149654it [11:52, 203.29it/s]\u001b[A\n",
            "149675it [11:52, 195.01it/s]\u001b[A\n",
            "149699it [11:52, 205.12it/s]\u001b[A\n",
            "149720it [11:53, 198.72it/s]\u001b[A\n",
            "149741it [11:53, 196.71it/s]\u001b[A\n",
            "149763it [11:53, 201.56it/s]\u001b[A\n",
            "149784it [11:53, 196.14it/s]\u001b[A\n",
            "149806it [11:53, 198.58it/s]\u001b[A\n",
            "149830it [11:53, 208.99it/s]\u001b[A\n",
            "149852it [11:53, 200.43it/s]\u001b[A\n",
            "149873it [11:53, 198.92it/s]\u001b[A\n",
            "149895it [11:53, 204.48it/s]\u001b[A\n",
            "149919it [11:54, 210.40it/s]\u001b[A\n",
            "149943it [11:54, 217.90it/s]\u001b[A\n",
            "149965it [11:54, 186.29it/s]\u001b[A\n",
            "149985it [11:54, 187.11it/s]\u001b[A\n",
            "150005it [11:54, 168.07it/s]\u001b[A\n",
            "150025it [11:54, 174.19it/s]\u001b[A\n",
            "150049it [11:54, 187.21it/s]\u001b[A\n",
            "150096it [11:54, 209.93it/s]\n"
          ],
          "name": "stderr"
        },
        {
          "output_type": "stream",
          "text": [
            "CPU times: user 11min 26s, sys: 12.3 s, total: 11min 38s\n",
            "Wall time: 11min 55s\n"
          ],
          "name": "stdout"
        }
      ]
    },
    {
      "cell_type": "code",
      "metadata": {
        "id": "v4HztGdl1ED7"
      },
      "source": [
        "df.to_csv(\"/content/gdrive/MyDrive/ci/mytrain.csv\")"
      ],
      "execution_count": 102,
      "outputs": []
    },
    {
      "cell_type": "markdown",
      "metadata": {
        "id": "P6ZhOrCvfhQg"
      },
      "source": [
        "# set the train.csv and test.csv path on your mounted drive"
      ]
    },
    {
      "cell_type": "code",
      "metadata": {
        "id": "wJyULreQfQKB"
      },
      "source": [
        "trainPath = \"/content/gdrive/MyDrive/ci/mytrain.csv\"\n",
        "testPath = \"/content/gdrive/MyDrive/ci/test.csv\""
      ],
      "execution_count": 3,
      "outputs": []
    },
    {
      "cell_type": "code",
      "metadata": {
        "id": "AS7Qt4Rcof0I"
      },
      "source": [
        "df = pd.read_csv(trainPath, index_col=0)"
      ],
      "execution_count": 4,
      "outputs": []
    },
    {
      "cell_type": "code",
      "metadata": {
        "colab": {
          "base_uri": "https://localhost:8080/",
          "height": 419
        },
        "id": "0UsBur36ofxj",
        "outputId": "550f98e3-c4e0-409c-9058-d2a2533f3242"
      },
      "source": [
        "df"
      ],
      "execution_count": 5,
      "outputs": [
        {
          "output_type": "execute_result",
          "data": {
            "text/html": [
              "<div>\n",
              "<style scoped>\n",
              "    .dataframe tbody tr th:only-of-type {\n",
              "        vertical-align: middle;\n",
              "    }\n",
              "\n",
              "    .dataframe tbody tr th {\n",
              "        vertical-align: top;\n",
              "    }\n",
              "\n",
              "    .dataframe thead th {\n",
              "        text-align: right;\n",
              "    }\n",
              "</style>\n",
              "<table border=\"1\" class=\"dataframe\">\n",
              "  <thead>\n",
              "    <tr style=\"text-align: right;\">\n",
              "      <th></th>\n",
              "      <th>Text</th>\n",
              "      <th>Category</th>\n",
              "    </tr>\n",
              "  </thead>\n",
              "  <tbody>\n",
              "    <tr>\n",
              "      <th>0</th>\n",
              "      <td>خبرنامه دانشگاه علم و صنعت ایران شماره یازدهم ...</td>\n",
              "      <td>Science and Culture</td>\n",
              "    </tr>\n",
              "    <tr>\n",
              "      <th>1</th>\n",
              "      <td>تا پایان سال ۱۳۷۸ دهها زمین فوتبال و سالن ورزش...</td>\n",
              "      <td>Sport</td>\n",
              "    </tr>\n",
              "    <tr>\n",
              "      <th>2</th>\n",
              "      <td>انجمن تولیدکنندگان تجهیزات صنعت نفت تشکیل شد ن...</td>\n",
              "      <td>Economy</td>\n",
              "    </tr>\n",
              "    <tr>\n",
              "      <th>3</th>\n",
              "      <td>کرتین برای سومین بار نخست وزیر کانادا شد ژان ک...</td>\n",
              "      <td>Miscellaneous.World News</td>\n",
              "    </tr>\n",
              "    <tr>\n",
              "      <th>4</th>\n",
              "      <td>خداحافظ رفقا نمایندگان اروپای شرقی در جام ۲۰۰۲...</td>\n",
              "      <td>Sport</td>\n",
              "    </tr>\n",
              "    <tr>\n",
              "      <th>...</th>\n",
              "      <td>...</td>\n",
              "      <td>...</td>\n",
              "    </tr>\n",
              "    <tr>\n",
              "      <th>150091</th>\n",
              "      <td>مشکل بزرگ سدسازی وزیر نیرو: در کشور کمبود اعتب...</td>\n",
              "      <td>Miscellaneous</td>\n",
              "    </tr>\n",
              "    <tr>\n",
              "      <th>150092</th>\n",
              "      <td>خودسوزی یک هوادار پ ک ک در شهر دیاربکر ترکیه آ...</td>\n",
              "      <td>Miscellaneous.Happenings</td>\n",
              "    </tr>\n",
              "    <tr>\n",
              "      <th>150093</th>\n",
              "      <td>از نیمه دوم سال جاری در ۶۰۰ دستگاه اتوبوس کارت...</td>\n",
              "      <td>Miscellaneous.Urban</td>\n",
              "    </tr>\n",
              "    <tr>\n",
              "      <th>150094</th>\n",
              "      <td>در کتابخانه مرکز دانشگاه تهران و دانشکده هنرها...</td>\n",
              "      <td>Science and Culture</td>\n",
              "    </tr>\n",
              "    <tr>\n",
              "      <th>150095</th>\n",
              "      <td>پیام رئیس جمهوری به سران کشورهای عضو سازمان اس...</td>\n",
              "      <td>Politics</td>\n",
              "    </tr>\n",
              "  </tbody>\n",
              "</table>\n",
              "<p>150096 rows × 2 columns</p>\n",
              "</div>"
            ],
            "text/plain": [
              "                                                     Text                  Category\n",
              "0       خبرنامه دانشگاه علم و صنعت ایران شماره یازدهم ...       Science and Culture\n",
              "1       تا پایان سال ۱۳۷۸ دهها زمین فوتبال و سالن ورزش...                     Sport\n",
              "2       انجمن تولیدکنندگان تجهیزات صنعت نفت تشکیل شد ن...                   Economy\n",
              "3       کرتین برای سومین بار نخست وزیر کانادا شد ژان ک...  Miscellaneous.World News\n",
              "4       خداحافظ رفقا نمایندگان اروپای شرقی در جام ۲۰۰۲...                     Sport\n",
              "...                                                   ...                       ...\n",
              "150091  مشکل بزرگ سدسازی وزیر نیرو: در کشور کمبود اعتب...             Miscellaneous\n",
              "150092  خودسوزی یک هوادار پ ک ک در شهر دیاربکر ترکیه آ...  Miscellaneous.Happenings\n",
              "150093  از نیمه دوم سال جاری در ۶۰۰ دستگاه اتوبوس کارت...       Miscellaneous.Urban\n",
              "150094  در کتابخانه مرکز دانشگاه تهران و دانشکده هنرها...       Science and Culture\n",
              "150095  پیام رئیس جمهوری به سران کشورهای عضو سازمان اس...                  Politics\n",
              "\n",
              "[150096 rows x 2 columns]"
            ]
          },
          "metadata": {
            "tags": []
          },
          "execution_count": 5
        }
      ]
    },
    {
      "cell_type": "code",
      "metadata": {
        "id": "tCzFRN8Zofu6"
      },
      "source": [
        "df.insert(0, column=\"category\", value=0 )\n",
        "df['category'] = df.apply (lambda row: row[\"Category\"], axis=1)\n",
        "df.drop(columns=['Category'], inplace=True)"
      ],
      "execution_count": 6,
      "outputs": []
    },
    {
      "cell_type": "code",
      "metadata": {
        "colab": {
          "base_uri": "https://localhost:8080/"
        },
        "id": "MhlUeJ__8XBE",
        "outputId": "cd04c452-52a3-4fbf-c1f6-ba9a70aa426c"
      },
      "source": [
        "len(set(df['category']))"
      ],
      "execution_count": 7,
      "outputs": [
        {
          "output_type": "execute_result",
          "data": {
            "text/plain": [
              "34"
            ]
          },
          "metadata": {
            "tags": []
          },
          "execution_count": 7
        }
      ]
    },
    {
      "cell_type": "markdown",
      "metadata": {
        "id": "l8QnFFWg27vx"
      },
      "source": [
        "# Map classes strings to numbers"
      ]
    },
    {
      "cell_type": "code",
      "metadata": {
        "id": "l4PEkmmbofsQ"
      },
      "source": [
        "from sklearn.preprocessing import LabelEncoder  \n",
        "le = LabelEncoder()\n",
        "df['category'] = le.fit_transform(df['category'])"
      ],
      "execution_count": 8,
      "outputs": []
    },
    {
      "cell_type": "code",
      "metadata": {
        "colab": {
          "base_uri": "https://localhost:8080/"
        },
        "id": "0vck_TNNofp9",
        "outputId": "112d7de2-8ba3-4057-f6e3-feb87bae985d"
      },
      "source": [
        "le.classes_"
      ],
      "execution_count": 9,
      "outputs": [
        {
          "output_type": "execute_result",
          "data": {
            "text/plain": [
              "array(['Economy', 'Economy.Agriculture', 'Economy.Bank and Bourse',\n",
              "       'Economy.Commerce', 'Economy.Dwelling and Construction',\n",
              "       'Economy.Industry', 'Economy.Oil', 'Literature and Art',\n",
              "       'Literature and Art.Art', 'Literature and Art.Art.Cinema',\n",
              "       'Literature and Art.Art.Music', 'Literature and Art.Art.Theater',\n",
              "       'Literature and Art.Literature', 'Miscellaneous',\n",
              "       'Miscellaneous.Happenings', 'Miscellaneous.Islamic Councils',\n",
              "       'Miscellaneous.Picture', 'Miscellaneous.Picture.Caricature',\n",
              "       'Miscellaneous.Urban', 'Miscellaneous.World News',\n",
              "       'Natural Environment', 'Politics', 'Politics.Iran Politics',\n",
              "       'Science and Culture', 'Science and Culture.Science',\n",
              "       'Science and Culture.Science.Book',\n",
              "       'Science and Culture.Science.Information and Communication Technology',\n",
              "       'Science and Culture.Science.Medicine and Remedy', 'Social',\n",
              "       'Social.Religion', 'Social.Women', 'Sport', 'Sport.World Cup',\n",
              "       'Tourism'], dtype=object)"
            ]
          },
          "metadata": {
            "tags": []
          },
          "execution_count": 9
        }
      ]
    },
    {
      "cell_type": "code",
      "metadata": {
        "id": "3LdP_4Zpofn8"
      },
      "source": [
        "df.to_csv(\"train.csv\", header=None, index=False)"
      ],
      "execution_count": 10,
      "outputs": []
    },
    {
      "cell_type": "code",
      "metadata": {
        "id": "S4HfMuJ-oflS"
      },
      "source": [
        "import torch\n",
        "import torchtext\n",
        "from torchtext.datasets import text_classification\n",
        "import logging\n",
        "from tqdm import tqdm"
      ],
      "execution_count": 11,
      "outputs": []
    },
    {
      "cell_type": "code",
      "metadata": {
        "id": "5G0QIFfBofi4"
      },
      "source": [
        "# have memory issue with ngrams > 2\n",
        "NGRAMS = 2\n",
        "BATCH_SIZE = 8\n",
        "device = torch.device(\"cuda\" if torch.cuda.is_available() else \"cpu\")"
      ],
      "execution_count": 12,
      "outputs": []
    },
    {
      "cell_type": "markdown",
      "metadata": {
        "id": "_lSlXDAX3EFl"
      },
      "source": [
        "# functions needed to use neural network"
      ]
    },
    {
      "cell_type": "code",
      "metadata": {
        "id": "a45GCV2tEjA4"
      },
      "source": [
        "def _split_tokenizer(x):\n",
        "    return x.split()"
      ],
      "execution_count": 13,
      "outputs": []
    },
    {
      "cell_type": "code",
      "metadata": {
        "id": "c866JvEBEUy1"
      },
      "source": [
        "import io\n",
        "from torchtext.utils import unicode_csv_reader\n",
        "from torchtext.data.utils import ngrams_iterator\n",
        "\n",
        "def _csv_iterator(data_path, ngrams, yield_cls=False):\n",
        "    # tokenizer = get_tokenizer(\"basic_english\")\n",
        "    tokenizer = _split_tokenizer\n",
        "    with io.open(data_path, encoding=\"utf8\") as f:\n",
        "        reader = unicode_csv_reader(f)\n",
        "        for row in reader:\n",
        "            tokens = row[1]\n",
        "            # print(tokens)\n",
        "            tokens = tokenizer(tokens)\n",
        "            if yield_cls:\n",
        "                yield int(row[0]), ngrams_iterator(tokens, ngrams)\n",
        "            else:\n",
        "                yield ngrams_iterator(tokens, ngrams)"
      ],
      "execution_count": 14,
      "outputs": []
    },
    {
      "cell_type": "code",
      "metadata": {
        "id": "fKwuuiYbErpA"
      },
      "source": [
        "from torchtext.vocab import Vocab\n",
        "def _create_data_from_iterator(vocab, iterator, include_unk):\n",
        "    data = []\n",
        "    labels = []\n",
        "    with tqdm(unit_scale=0, unit='lines') as t:\n",
        "        for cls, tokens in iterator:\n",
        "            if include_unk:\n",
        "                tokens = torch.tensor([vocab[token] for token in tokens])\n",
        "            else:\n",
        "                token_ids = list(filter(lambda x: x is not Vocab.UNK, [vocab[token]\n",
        "                                        for token in tokens]))\n",
        "                tokens = torch.tensor(token_ids)\n",
        "            if len(tokens) == 0:\n",
        "                logging.info('Row contains no tokens.')\n",
        "            data.append((cls, tokens))\n",
        "            labels.append(cls)\n",
        "            t.update(1)\n",
        "    return data, set(labels)"
      ],
      "execution_count": 15,
      "outputs": []
    },
    {
      "cell_type": "code",
      "metadata": {
        "id": "20ejC3XOofgk"
      },
      "source": [
        "from torchtext.vocab import build_vocab_from_iterator\n",
        "def _setup_datasets(root='.data', ngrams=1, vocab=None, include_unk=False):\n",
        "\n",
        "    train_csv_path = \"./train.csv\"\n",
        "\n",
        "    # create vocab\n",
        "    logging.info('Building Vocab based on {}'.format(train_csv_path))\n",
        "    vocab = build_vocab_from_iterator(_csv_iterator(train_csv_path, ngrams))\n",
        "    logging.info('Vocab has {} entries'.format(len(vocab)))\n",
        "    \n",
        "    logging.info('Creating training data')\n",
        "    train_data, train_labels = _create_data_from_iterator(\n",
        "        vocab, _csv_iterator(train_csv_path, ngrams, yield_cls=True), include_unk)\n",
        "    return text_classification.TextClassificationDataset(vocab, train_data, train_labels)"
      ],
      "execution_count": 16,
      "outputs": []
    },
    {
      "cell_type": "markdown",
      "metadata": {
        "id": "mzUN9c9h3Ka_"
      },
      "source": [
        "# create desired ngram dataset"
      ]
    },
    {
      "cell_type": "code",
      "metadata": {
        "colab": {
          "base_uri": "https://localhost:8080/"
        },
        "id": "VsWJFmiH-PhB",
        "outputId": "10e0f0a2-2420-4cd3-bea6-66cca46f174e"
      },
      "source": [
        "train_dataset = _setup_datasets(\"./\", ngrams=NGRAMS, vocab=None, include_unk=False)"
      ],
      "execution_count": 17,
      "outputs": [
        {
          "output_type": "stream",
          "text": [
            "150096lines [01:48, 1377.07lines/s]\n",
            "150096lines [03:37, 688.98lines/s]\n"
          ],
          "name": "stderr"
        }
      ]
    },
    {
      "cell_type": "code",
      "metadata": {
        "colab": {
          "base_uri": "https://localhost:8080/"
        },
        "id": "a5laVNVwr8hq",
        "outputId": "a8ae2871-c662-4b83-dab0-85d49b71e663"
      },
      "source": [
        "train_dataset"
      ],
      "execution_count": 18,
      "outputs": [
        {
          "output_type": "execute_result",
          "data": {
            "text/plain": [
              "<torchtext.datasets.text_classification.TextClassificationDataset at 0x7f5d78618048>"
            ]
          },
          "metadata": {
            "tags": []
          },
          "execution_count": 18
        }
      ]
    },
    {
      "cell_type": "code",
      "metadata": {
        "colab": {
          "base_uri": "https://localhost:8080/"
        },
        "id": "ZbnvwCnD4zSe",
        "outputId": "af23d696-6c33-4052-d475-e248b5813a7a"
      },
      "source": [
        "len(train_dataset.get_vocab())"
      ],
      "execution_count": 19,
      "outputs": [
        {
          "output_type": "execute_result",
          "data": {
            "text/plain": [
              "11808699"
            ]
          },
          "metadata": {
            "tags": []
          },
          "execution_count": 19
        }
      ]
    },
    {
      "cell_type": "code",
      "metadata": {
        "colab": {
          "base_uri": "https://localhost:8080/"
        },
        "id": "cqsuEZkrHXNe",
        "outputId": "bff92797-743c-4b50-a367-905d3b9cac2e"
      },
      "source": [
        "len(train_dataset.get_labels())"
      ],
      "execution_count": 20,
      "outputs": [
        {
          "output_type": "execute_result",
          "data": {
            "text/plain": [
              "34"
            ]
          },
          "metadata": {
            "tags": []
          },
          "execution_count": 20
        }
      ]
    },
    {
      "cell_type": "code",
      "metadata": {
        "colab": {
          "base_uri": "https://localhost:8080/"
        },
        "id": "Em-dUVpYHV0o",
        "outputId": "6358a081-0258-4f29-e65c-4a001e9e7c8a"
      },
      "source": [
        "len(train_dataset)"
      ],
      "execution_count": 21,
      "outputs": [
        {
          "output_type": "execute_result",
          "data": {
            "text/plain": [
              "150096"
            ]
          },
          "metadata": {
            "tags": []
          },
          "execution_count": 21
        }
      ]
    },
    {
      "cell_type": "code",
      "metadata": {
        "colab": {
          "base_uri": "https://localhost:8080/"
        },
        "id": "w2k0meD4-PeS",
        "outputId": "3cef47d1-8b1e-44cc-ca52-afb5e870ff92"
      },
      "source": [
        "device"
      ],
      "execution_count": 22,
      "outputs": [
        {
          "output_type": "execute_result",
          "data": {
            "text/plain": [
              "device(type='cpu')"
            ]
          },
          "metadata": {
            "tags": []
          },
          "execution_count": 22
        }
      ]
    },
    {
      "cell_type": "markdown",
      "metadata": {
        "id": "BuY9dr3Y3REG"
      },
      "source": [
        "# main model"
      ]
    },
    {
      "cell_type": "code",
      "metadata": {
        "id": "3xjFn529LsYW"
      },
      "source": [
        "import torch.nn as nn\n",
        "import torch.nn.functional as F\n",
        "class TextSentiment(nn.Module):\n",
        "    def __init__(self, vocab_size, embed_dim, num_class):\n",
        "        super().__init__()\n",
        "        self.embedding = nn.EmbeddingBag(vocab_size, embed_dim, sparse=True)\n",
        "        self.fc = nn.Linear(embed_dim, num_class)\n",
        "        self.init_weights()\n",
        "\n",
        "    def init_weights(self):\n",
        "        initrange = 0.5\n",
        "        self.embedding.weight.data.uniform_(-initrange, initrange)\n",
        "        self.fc.weight.data.uniform_(-initrange, initrange)\n",
        "        self.fc.bias.data.zero_()\n",
        "\n",
        "    def forward(self, text, offsets):\n",
        "        embedded = self.embedding(text, offsets)\n",
        "        return self.fc(embedded)"
      ],
      "execution_count": 23,
      "outputs": []
    },
    {
      "cell_type": "markdown",
      "metadata": {
        "id": "kRd9zaDm3T08"
      },
      "source": [
        "# more deeper model that performs not so good"
      ]
    },
    {
      "cell_type": "code",
      "metadata": {
        "id": "LnLx8j7fyim8"
      },
      "source": [
        "# import math\n",
        "# import torch\n",
        "# import torch.nn as nn\n",
        "# import torch.nn.functional as F\n",
        "\n",
        "# class MyModel(nn.ModuleList):\n",
        "\n",
        "#     def __init__(self, vocab_size, embed_dim, num_class):\n",
        "#         super().__init__()\n",
        "\n",
        "#         self.embedding = nn.EmbeddingBag(vocab_size, embed_dim, sparse=True)\n",
        "#         # Dropout definition\n",
        "#         # self.dropout = nn.Dropout(0.1)\n",
        "#         # Fully connected layer definition\n",
        "#         # self.fc1 = nn.Linear(embed_dim, 40)\n",
        "#         self.fc = nn.Linear(embed_dim, num_class)\n",
        "\n",
        "\t\t\n",
        "#     def init_weights(self):\n",
        "#         initrange = 0.4\n",
        "#         self.embedding.weight.data.uniform_(-initrange, initrange)\n",
        "#         self.fc.weight.data.uniform_(-initrange, initrange)\n",
        "#         self.fc.bias.data.zero_()\n",
        "\t\t\n",
        "\t\t\n",
        "#     def forward(self, x, offsets):\n",
        "#         x = self.embedding(x, offsets)\n",
        "\n",
        "#         x1 = self.fc(x)\n",
        "#         x1 = self.dropout(x1)\n",
        "\n",
        "#         # x2 = self.fc(x1)\n",
        "#         # out = self.dropout(x2)\n",
        "#         # out = torch.sigmoid(out)\n",
        "#         return out"
      ],
      "execution_count": 24,
      "outputs": []
    },
    {
      "cell_type": "code",
      "metadata": {
        "id": "UATcPR6JSwls"
      },
      "source": [
        "# del model\n",
        "# del scheduler\n",
        "# del optimizer\n",
        "# del criterion"
      ],
      "execution_count": 25,
      "outputs": []
    },
    {
      "cell_type": "markdown",
      "metadata": {
        "id": "cl3oo6KM2hI3"
      },
      "source": [
        "# set the model params"
      ]
    },
    {
      "cell_type": "code",
      "metadata": {
        "id": "fasSZrbm-PZU"
      },
      "source": [
        "VOCAB_SIZE = len(train_dataset.get_vocab())\n",
        "EMBED_DIM = 32\n",
        "NUN_CLASS = len(train_dataset.get_labels())\n",
        "model = TextSentiment(VOCAB_SIZE, EMBED_DIM, NUN_CLASS).to(device)"
      ],
      "execution_count": 26,
      "outputs": []
    },
    {
      "cell_type": "code",
      "metadata": {
        "id": "GJtXH_Ts-PWo"
      },
      "source": [
        "def generate_batch(batch):\n",
        "    label = torch.tensor([entry[0] for entry in batch])\n",
        "    text = [entry[1] for entry in batch]\n",
        "    offsets = [0] + [len(entry) for entry in text]\n",
        "    offsets = torch.tensor(offsets[:-1]).cumsum(dim=0)\n",
        "    text = torch.cat(text)\n",
        "    return text, offsets, label"
      ],
      "execution_count": 27,
      "outputs": []
    },
    {
      "cell_type": "code",
      "metadata": {
        "id": "EAcauxM7-PUj"
      },
      "source": [
        "from torch.utils.data import DataLoader\n",
        "\n",
        "def train_func(sub_train_):\n",
        "    train_loss = 0\n",
        "    train_acc = 0\n",
        "    data = DataLoader(sub_train_, batch_size=BATCH_SIZE, shuffle=True,\n",
        "                      collate_fn=generate_batch)\n",
        "    for i, (text, offsets, cls) in enumerate(data):\n",
        "        optimizer.zero_grad()\n",
        "        text, offsets, cls = text.to(device), offsets.to(device), cls.to(device)\n",
        "        output = model(text, offsets)\n",
        "        loss = criterion(output, cls)\n",
        "        train_loss += loss.item()\n",
        "        loss.backward()\n",
        "        optimizer.step()\n",
        "        train_acc += (output.argmax(1) == cls).sum().item()\n",
        "\n",
        "    scheduler.step()\n",
        "\n",
        "    return train_loss / len(sub_train_), train_acc / len(sub_train_)\n",
        "\n",
        "def test(data_):\n",
        "    loss = 0\n",
        "    acc = 0\n",
        "    data = DataLoader(data_, batch_size=BATCH_SIZE, collate_fn=generate_batch)\n",
        "    for text, offsets, cls in data:\n",
        "        text, offsets, cls = text.to(device), offsets.to(device), cls.to(device)\n",
        "        with torch.no_grad():\n",
        "            output = model(text, offsets)\n",
        "            loss = criterion(output, cls)\n",
        "            loss += loss.item()\n",
        "            acc += (output.argmax(1) == cls).sum().item()\n",
        "\n",
        "    return loss / len(data_), acc / len(data_)"
      ],
      "execution_count": 28,
      "outputs": []
    },
    {
      "cell_type": "markdown",
      "metadata": {
        "id": "j_qgSvjP3ezI"
      },
      "source": [
        "# run the model"
      ]
    },
    {
      "cell_type": "code",
      "metadata": {
        "id": "XfA077RA-PR9"
      },
      "source": [
        "import time\n",
        "from torch.utils.data.dataset import random_split\n",
        "N_EPOCHS = 15\n",
        "min_valid_loss = float('inf')\n",
        "\n",
        "criterion = torch.nn.CrossEntropyLoss().to(device)\n",
        "optimizer = torch.optim.SGD(model.parameters(), lr=4.0)\n",
        "scheduler = torch.optim.lr_scheduler.StepLR(optimizer, 1, gamma=0.9)\n",
        "\n",
        "train_len = int(len(train_dataset) * 0.98)\n",
        "sub_train_, sub_valid_ = \\\n",
        "    random_split(train_dataset, [train_len, len(train_dataset) - train_len])\n",
        "\n",
        "for epoch in range(N_EPOCHS):\n",
        "\n",
        "    start_time = time.time()\n",
        "    train_loss, train_acc = train_func(sub_train_)\n",
        "    valid_loss, valid_acc = test(sub_valid_)\n",
        "\n",
        "    secs = int(time.time() - start_time)\n",
        "    mins = secs / 60\n",
        "    secs = secs % 60\n",
        "\n",
        "    print('Epoch: %d' %(epoch + 1), \" | time in %d minutes, %d seconds\" %(mins, secs))\n",
        "    print(f'\\tLoss: {train_loss:.4f}(train)\\t|\\tAcc: {train_acc * 100:.1f}%(train)')\n",
        "    print(f'\\tLoss: {valid_loss:.4f}(valid)\\t|\\tAcc: {valid_acc * 100:.1f}%(valid)')"
      ],
      "execution_count": 30,
      "outputs": []
    },
    {
      "cell_type": "markdown",
      "metadata": {
        "id": "yuzgbHNgxwDs"
      },
      "source": [
        "\n",
        "\n",
        "```\n",
        "batch size = 8\n",
        "EMBED_DIM = 32\n",
        "train = 0.98\n",
        "Epoch: 1  | time in 4 minutes, 13 seconds\n",
        "\tLoss: 0.0766(train)\t|\tAcc: 81.7%(train)\n",
        "\tLoss: 0.0004(valid)\t|\tAcc: 79.3%(valid)\n",
        "Epoch: 2  | time in 4 minutes, 21 seconds\n",
        "\tLoss: 0.0583(train)\t|\tAcc: 86.1%(train)\n",
        "\tLoss: 0.0005(valid)\t|\tAcc: 83.8%(valid)\n",
        "Epoch: 3  | time in 4 minutes, 25 seconds\n",
        "\tLoss: 0.0453(train)\t|\tAcc: 89.5%(train)\n",
        "\tLoss: 0.0005(valid)\t|\tAcc: 80.5%(valid)\n",
        "Epoch: 4  | time in 4 minutes, 29 seconds\n",
        "\tLoss: 0.0355(train)\t|\tAcc: 92.0%(train)\n",
        "\tLoss: 0.0002(valid)\t|\tAcc: 83.7%(valid)\n",
        "Epoch: 5  | time in 4 minutes, 23 seconds\n",
        "\tLoss: 0.0292(train)\t|\tAcc: 93.8%(train)\n",
        "\tLoss: 0.0010(valid)\t|\tAcc: 84.2%(valid)\n",
        "Epoch: 6  | time in 4 minutes, 23 seconds\n",
        "\tLoss: 0.0232(train)\t|\tAcc: 95.5%(train)\n",
        "\tLoss: 0.0013(valid)\t|\tAcc: 83.8%(valid)\n",
        "Epoch: 7  | time in 4 minutes, 22 seconds\n",
        "\tLoss: 0.0205(train)\t|\tAcc: 96.5%(train)\n",
        "\tLoss: 0.0007(valid)\t|\tAcc: 85.0%(valid)\n",
        "Epoch: 8  | time in 4 minutes, 27 seconds\n",
        "\tLoss: 0.0169(train)\t|\tAcc: 97.3%(train)\n",
        "\tLoss: 0.0002(valid)\t|\tAcc: 84.9%(valid)\n",
        "Epoch: 9  | time in 4 minutes, 20 seconds\n",
        "\tLoss: 0.0153(train)\t|\tAcc: 97.9%(train)\n",
        "\tLoss: 0.0006(valid)\t|\tAcc: 85.6%(valid)\n",
        "Epoch: 10  | time in 4 minutes, 3 seconds\n",
        "\tLoss: 0.0125(train)\t|\tAcc: 98.3%(train)\n",
        "\tLoss: 0.0007(valid)\t|\tAcc: 85.5%(valid)\n",
        "Epoch: 11  | time in 3 minutes, 56 seconds\n",
        "\tLoss: 0.0116(train)\t|\tAcc: 98.7%(train)\n",
        "\tLoss: 0.0008(valid)\t|\tAcc: 85.2%(valid)\n",
        "Epoch: 12  | time in 4 minutes, 1 seconds\n",
        "\tLoss: 0.0102(train)\t|\tAcc: 98.9%(train)\n",
        "\tLoss: 0.0004(valid)\t|\tAcc: 85.3%(valid)\n",
        "Epoch: 13  | time in 4 minutes, 3 seconds\n",
        "\tLoss: 0.0098(train)\t|\tAcc: 99.1%(train)\n",
        "\tLoss: 0.0005(valid)\t|\tAcc: 85.2%(valid)\n",
        "Epoch: 14  | time in 4 minutes, 16 seconds\n",
        "\tLoss: 0.0091(train)\t|\tAcc: 99.2%(train)\n",
        "\tLoss: 0.0003(valid)\t|\tAcc: 85.8%(valid)\n",
        "Epoch: 15  | time in 4 minutes, 11 seconds\n",
        "\tLoss: 0.0081(train)\t|\tAcc: 99.3%(train)\n",
        "\tLoss: 0.0005(valid)\t|\tAcc: 85.5%(valid)\n",
        "```\n",
        "\n"
      ]
    },
    {
      "cell_type": "code",
      "metadata": {
        "id": "TXXU2m3Q-PLD"
      },
      "source": [
        "data_labels = dict()\n",
        "for i,c in enumerate(le.classes_):\n",
        "  data_labels[i] = c"
      ],
      "execution_count": null,
      "outputs": []
    },
    {
      "cell_type": "code",
      "metadata": {
        "colab": {
          "base_uri": "https://localhost:8080/"
        },
        "id": "60tTsWL8-PIQ",
        "outputId": "e124e4bf-e378-42e2-eb27-1554989a724e"
      },
      "source": [
        "data_labels"
      ],
      "execution_count": null,
      "outputs": [
        {
          "output_type": "execute_result",
          "data": {
            "text/plain": [
              "{0: 'Economy',\n",
              " 1: 'Economy.Agriculture',\n",
              " 2: 'Economy.Bank and Bourse',\n",
              " 3: 'Economy.Commerce',\n",
              " 4: 'Economy.Dwelling and Construction',\n",
              " 5: 'Economy.Industry',\n",
              " 6: 'Economy.Oil',\n",
              " 7: 'Literature and Art',\n",
              " 8: 'Literature and Art.Art',\n",
              " 9: 'Literature and Art.Art.Cinema',\n",
              " 10: 'Literature and Art.Art.Music',\n",
              " 11: 'Literature and Art.Art.Theater',\n",
              " 12: 'Literature and Art.Literature',\n",
              " 13: 'Miscellaneous',\n",
              " 14: 'Miscellaneous.Happenings',\n",
              " 15: 'Miscellaneous.Islamic Councils',\n",
              " 16: 'Miscellaneous.Picture',\n",
              " 17: 'Miscellaneous.Picture.Caricature',\n",
              " 18: 'Miscellaneous.Urban',\n",
              " 19: 'Miscellaneous.World News',\n",
              " 20: 'Natural Environment',\n",
              " 21: 'Politics',\n",
              " 22: 'Politics.Iran Politics',\n",
              " 23: 'Science and Culture',\n",
              " 24: 'Science and Culture.Science',\n",
              " 25: 'Science and Culture.Science.Book',\n",
              " 26: 'Science and Culture.Science.Information and Communication Technology',\n",
              " 27: 'Science and Culture.Science.Medicine and Remedy',\n",
              " 28: 'Social',\n",
              " 29: 'Social.Religion',\n",
              " 30: 'Social.Women',\n",
              " 31: 'Sport',\n",
              " 32: 'Sport.World Cup',\n",
              " 33: 'Tourism'}"
            ]
          },
          "metadata": {
            "tags": []
          },
          "execution_count": 32
        }
      ]
    },
    {
      "cell_type": "markdown",
      "metadata": {
        "id": "sUvHFFxy3kQK"
      },
      "source": [
        "# load test"
      ]
    },
    {
      "cell_type": "code",
      "metadata": {
        "id": "WDpZbBP6M9TO"
      },
      "source": [
        "df = pd.read_csv(testPath, index_col=0)"
      ],
      "execution_count": null,
      "outputs": []
    },
    {
      "cell_type": "code",
      "metadata": {
        "colab": {
          "base_uri": "https://localhost:8080/",
          "height": 450
        },
        "id": "MpQbtJyqM81q",
        "outputId": "0a62c4a6-023c-480a-ae73-affc69c17815"
      },
      "source": [
        "df"
      ],
      "execution_count": null,
      "outputs": [
        {
          "output_type": "execute_result",
          "data": {
            "text/html": [
              "<div>\n",
              "<style scoped>\n",
              "    .dataframe tbody tr th:only-of-type {\n",
              "        vertical-align: middle;\n",
              "    }\n",
              "\n",
              "    .dataframe tbody tr th {\n",
              "        vertical-align: top;\n",
              "    }\n",
              "\n",
              "    .dataframe thead th {\n",
              "        text-align: right;\n",
              "    }\n",
              "</style>\n",
              "<table border=\"1\" class=\"dataframe\">\n",
              "  <thead>\n",
              "    <tr style=\"text-align: right;\">\n",
              "      <th></th>\n",
              "      <th>Text</th>\n",
              "    </tr>\n",
              "    <tr>\n",
              "      <th>Id</th>\n",
              "      <th></th>\n",
              "    </tr>\n",
              "  </thead>\n",
              "  <tbody>\n",
              "    <tr>\n",
              "      <th>0</th>\n",
              "      <td>\\nهفت اقليم \\nآلودگي هوا پكن را تهديد مي كند \\...</td>\n",
              "    </tr>\n",
              "    <tr>\n",
              "      <th>1</th>\n",
              "      <td>\\nگل و گياه زعفران زينتي \\nنام علمي: Crocus ba...</td>\n",
              "    </tr>\n",
              "    <tr>\n",
              "      <th>2</th>\n",
              "      <td>\\nيادداشت \\nقانون بودجه و صنايع كوچك \\nدر شمار...</td>\n",
              "    </tr>\n",
              "    <tr>\n",
              "      <th>3</th>\n",
              "      <td>\\nدر سالروز ميلاد حضرت مهدي \\nهمايش ادبي دانش ...</td>\n",
              "    </tr>\n",
              "    <tr>\n",
              "      <th>4</th>\n",
              "      <td>\\nاز IRA تا فارك \\n بوگوتا، پايتخت پرهرج ومرج ...</td>\n",
              "    </tr>\n",
              "    <tr>\n",
              "      <th>...</th>\n",
              "      <td>...</td>\n",
              "    </tr>\n",
              "    <tr>\n",
              "      <th>16673</th>\n",
              "      <td>\\nبراي ارتقاي كيفيت در بخش آموزش عالي \\nوزارت ...</td>\n",
              "    </tr>\n",
              "    <tr>\n",
              "      <th>16674</th>\n",
              "      <td>\\nديدار رهبر انقلاب اسلامي با \\nگروهي از جوانا...</td>\n",
              "    </tr>\n",
              "    <tr>\n",
              "      <th>16675</th>\n",
              "      <td>\\nبحران در دولت ائتلافي هند \\nانشعاب در حزب اي...</td>\n",
              "    </tr>\n",
              "    <tr>\n",
              "      <th>16676</th>\n",
              "      <td>\\nچرا به آثار باستاني خود خنجر؟ مي زنيم! \\nآنط...</td>\n",
              "    </tr>\n",
              "    <tr>\n",
              "      <th>16677</th>\n",
              "      <td>\\nيك استاد دانشگاه: قاچاق كالا ناشي ازضعف \\nتو...</td>\n",
              "    </tr>\n",
              "  </tbody>\n",
              "</table>\n",
              "<p>16678 rows × 1 columns</p>\n",
              "</div>"
            ],
            "text/plain": [
              "                                                    Text\n",
              "Id                                                      \n",
              "0      \\nهفت اقليم \\nآلودگي هوا پكن را تهديد مي كند \\...\n",
              "1      \\nگل و گياه زعفران زينتي \\nنام علمي: Crocus ba...\n",
              "2      \\nيادداشت \\nقانون بودجه و صنايع كوچك \\nدر شمار...\n",
              "3      \\nدر سالروز ميلاد حضرت مهدي \\nهمايش ادبي دانش ...\n",
              "4      \\nاز IRA تا فارك \\n بوگوتا، پايتخت پرهرج ومرج ...\n",
              "...                                                  ...\n",
              "16673  \\nبراي ارتقاي كيفيت در بخش آموزش عالي \\nوزارت ...\n",
              "16674  \\nديدار رهبر انقلاب اسلامي با \\nگروهي از جوانا...\n",
              "16675  \\nبحران در دولت ائتلافي هند \\nانشعاب در حزب اي...\n",
              "16676  \\nچرا به آثار باستاني خود خنجر؟ مي زنيم! \\nآنط...\n",
              "16677  \\nيك استاد دانشگاه: قاچاق كالا ناشي ازضعف \\nتو...\n",
              "\n",
              "[16678 rows x 1 columns]"
            ]
          },
          "metadata": {
            "tags": []
          },
          "execution_count": 62
        }
      ]
    },
    {
      "cell_type": "code",
      "metadata": {
        "id": "zYV8N_cRM8ze"
      },
      "source": [
        "df['Category'] = 0"
      ],
      "execution_count": null,
      "outputs": []
    },
    {
      "cell_type": "code",
      "metadata": {
        "colab": {
          "base_uri": "https://localhost:8080/",
          "height": 450
        },
        "id": "6JJr-j1GM8wV",
        "outputId": "baf45428-f49a-4a09-d5b8-f7f237d20a33"
      },
      "source": [
        "df"
      ],
      "execution_count": null,
      "outputs": [
        {
          "output_type": "execute_result",
          "data": {
            "text/html": [
              "<div>\n",
              "<style scoped>\n",
              "    .dataframe tbody tr th:only-of-type {\n",
              "        vertical-align: middle;\n",
              "    }\n",
              "\n",
              "    .dataframe tbody tr th {\n",
              "        vertical-align: top;\n",
              "    }\n",
              "\n",
              "    .dataframe thead th {\n",
              "        text-align: right;\n",
              "    }\n",
              "</style>\n",
              "<table border=\"1\" class=\"dataframe\">\n",
              "  <thead>\n",
              "    <tr style=\"text-align: right;\">\n",
              "      <th></th>\n",
              "      <th>Text</th>\n",
              "      <th>Category</th>\n",
              "    </tr>\n",
              "    <tr>\n",
              "      <th>Id</th>\n",
              "      <th></th>\n",
              "      <th></th>\n",
              "    </tr>\n",
              "  </thead>\n",
              "  <tbody>\n",
              "    <tr>\n",
              "      <th>0</th>\n",
              "      <td>\\nهفت اقليم \\nآلودگي هوا پكن را تهديد مي كند \\...</td>\n",
              "      <td>0</td>\n",
              "    </tr>\n",
              "    <tr>\n",
              "      <th>1</th>\n",
              "      <td>\\nگل و گياه زعفران زينتي \\nنام علمي: Crocus ba...</td>\n",
              "      <td>0</td>\n",
              "    </tr>\n",
              "    <tr>\n",
              "      <th>2</th>\n",
              "      <td>\\nيادداشت \\nقانون بودجه و صنايع كوچك \\nدر شمار...</td>\n",
              "      <td>0</td>\n",
              "    </tr>\n",
              "    <tr>\n",
              "      <th>3</th>\n",
              "      <td>\\nدر سالروز ميلاد حضرت مهدي \\nهمايش ادبي دانش ...</td>\n",
              "      <td>0</td>\n",
              "    </tr>\n",
              "    <tr>\n",
              "      <th>4</th>\n",
              "      <td>\\nاز IRA تا فارك \\n بوگوتا، پايتخت پرهرج ومرج ...</td>\n",
              "      <td>0</td>\n",
              "    </tr>\n",
              "    <tr>\n",
              "      <th>...</th>\n",
              "      <td>...</td>\n",
              "      <td>...</td>\n",
              "    </tr>\n",
              "    <tr>\n",
              "      <th>16673</th>\n",
              "      <td>\\nبراي ارتقاي كيفيت در بخش آموزش عالي \\nوزارت ...</td>\n",
              "      <td>0</td>\n",
              "    </tr>\n",
              "    <tr>\n",
              "      <th>16674</th>\n",
              "      <td>\\nديدار رهبر انقلاب اسلامي با \\nگروهي از جوانا...</td>\n",
              "      <td>0</td>\n",
              "    </tr>\n",
              "    <tr>\n",
              "      <th>16675</th>\n",
              "      <td>\\nبحران در دولت ائتلافي هند \\nانشعاب در حزب اي...</td>\n",
              "      <td>0</td>\n",
              "    </tr>\n",
              "    <tr>\n",
              "      <th>16676</th>\n",
              "      <td>\\nچرا به آثار باستاني خود خنجر؟ مي زنيم! \\nآنط...</td>\n",
              "      <td>0</td>\n",
              "    </tr>\n",
              "    <tr>\n",
              "      <th>16677</th>\n",
              "      <td>\\nيك استاد دانشگاه: قاچاق كالا ناشي ازضعف \\nتو...</td>\n",
              "      <td>0</td>\n",
              "    </tr>\n",
              "  </tbody>\n",
              "</table>\n",
              "<p>16678 rows × 2 columns</p>\n",
              "</div>"
            ],
            "text/plain": [
              "                                                    Text  Category\n",
              "Id                                                                \n",
              "0      \\nهفت اقليم \\nآلودگي هوا پكن را تهديد مي كند \\...         0\n",
              "1      \\nگل و گياه زعفران زينتي \\nنام علمي: Crocus ba...         0\n",
              "2      \\nيادداشت \\nقانون بودجه و صنايع كوچك \\nدر شمار...         0\n",
              "3      \\nدر سالروز ميلاد حضرت مهدي \\nهمايش ادبي دانش ...         0\n",
              "4      \\nاز IRA تا فارك \\n بوگوتا، پايتخت پرهرج ومرج ...         0\n",
              "...                                                  ...       ...\n",
              "16673  \\nبراي ارتقاي كيفيت در بخش آموزش عالي \\nوزارت ...         0\n",
              "16674  \\nديدار رهبر انقلاب اسلامي با \\nگروهي از جوانا...         0\n",
              "16675  \\nبحران در دولت ائتلافي هند \\nانشعاب در حزب اي...         0\n",
              "16676  \\nچرا به آثار باستاني خود خنجر؟ مي زنيم! \\nآنط...         0\n",
              "16677  \\nيك استاد دانشگاه: قاچاق كالا ناشي ازضعف \\nتو...         0\n",
              "\n",
              "[16678 rows x 2 columns]"
            ]
          },
          "metadata": {
            "tags": []
          },
          "execution_count": 64
        }
      ]
    },
    {
      "cell_type": "code",
      "metadata": {
        "id": "S14mOiZi8eyx"
      },
      "source": [
        "from hazm import *"
      ],
      "execution_count": 32,
      "outputs": []
    },
    {
      "cell_type": "code",
      "metadata": {
        "id": "vbY55LUJ8YdY"
      },
      "source": [
        "%%time\n",
        "normalizer = Normalizer(remove_extra_spaces=True)\n",
        "stemmer = Stemmer()\n",
        "tokenizer = SentenceTokenizer()\n",
        "lemmatizer = Lemmatizer()\n",
        "\n",
        "for index, row in tqdm(df.iterrows()):\n",
        "    s = row['Text']\n",
        "    s = normalizer.punctuation_spacing(s)\n",
        "    s = normalizer.character_refinement(s)\n",
        "    s = lemmatizer.lemmatize(s)\n",
        "    s = stemmer.stem(s)\n",
        "    s = ' '.join(tokenizer.tokenize(s))\n",
        "    for w in utils.stopwords_list():\n",
        "        s.replace(w, ' ')\n",
        "    s = normalizer.normalize(s)\n",
        "    df.loc[index, 'Text'] = s"
      ],
      "execution_count": 34,
      "outputs": []
    },
    {
      "cell_type": "code",
      "metadata": {
        "id": "ctUA1IPmPNnA"
      },
      "source": [
        "import re\n",
        "from torchtext.data.utils import ngrams_iterator\n",
        "from torchtext.data.utils import get_tokenizer\n",
        "\n",
        "def predict(text, model, vocab, ngrams):\n",
        "    tokenizer = _split_tokenizer\n",
        "    with torch.no_grad():\n",
        "        text = torch.tensor([vocab[token]\n",
        "                            for token in ngrams_iterator(tokenizer(text), ngrams)])\n",
        "        output = model(text, torch.tensor([0]))\n",
        "        return output.argmax(1).item()"
      ],
      "execution_count": null,
      "outputs": []
    },
    {
      "cell_type": "markdown",
      "metadata": {
        "id": "aTfLnsIi3rYt"
      },
      "source": [
        "# predict test"
      ]
    },
    {
      "cell_type": "code",
      "metadata": {
        "id": "vIVCNGFkM8po"
      },
      "source": [
        "vocab = train_dataset.get_vocab()\n",
        "model = model.to(\"cpu\")\n",
        "for index, row in df.iterrows():\n",
        "    df.loc[index, 'Category'] = data_labels[predict(row['Text'], model, vocab, 1)]"
      ],
      "execution_count": null,
      "outputs": []
    },
    {
      "cell_type": "code",
      "metadata": {
        "colab": {
          "base_uri": "https://localhost:8080/",
          "height": 450
        },
        "id": "vhS9oN1AM8kl",
        "outputId": "5d8b91a0-ee11-4480-99b0-7d07c5ec2749"
      },
      "source": [
        "df"
      ],
      "execution_count": null,
      "outputs": [
        {
          "output_type": "execute_result",
          "data": {
            "text/html": [
              "<div>\n",
              "<style scoped>\n",
              "    .dataframe tbody tr th:only-of-type {\n",
              "        vertical-align: middle;\n",
              "    }\n",
              "\n",
              "    .dataframe tbody tr th {\n",
              "        vertical-align: top;\n",
              "    }\n",
              "\n",
              "    .dataframe thead th {\n",
              "        text-align: right;\n",
              "    }\n",
              "</style>\n",
              "<table border=\"1\" class=\"dataframe\">\n",
              "  <thead>\n",
              "    <tr style=\"text-align: right;\">\n",
              "      <th></th>\n",
              "      <th>Text</th>\n",
              "      <th>Category</th>\n",
              "    </tr>\n",
              "    <tr>\n",
              "      <th>Id</th>\n",
              "      <th></th>\n",
              "      <th></th>\n",
              "    </tr>\n",
              "  </thead>\n",
              "  <tbody>\n",
              "    <tr>\n",
              "      <th>0</th>\n",
              "      <td>\\nهفت اقليم \\nآلودگي هوا پكن را تهديد مي كند \\...</td>\n",
              "      <td>Miscellaneous.Urban</td>\n",
              "    </tr>\n",
              "    <tr>\n",
              "      <th>1</th>\n",
              "      <td>\\nگل و گياه زعفران زينتي \\nنام علمي: Crocus ba...</td>\n",
              "      <td>Miscellaneous</td>\n",
              "    </tr>\n",
              "    <tr>\n",
              "      <th>2</th>\n",
              "      <td>\\nيادداشت \\nقانون بودجه و صنايع كوچك \\nدر شمار...</td>\n",
              "      <td>Economy</td>\n",
              "    </tr>\n",
              "    <tr>\n",
              "      <th>3</th>\n",
              "      <td>\\nدر سالروز ميلاد حضرت مهدي \\nهمايش ادبي دانش ...</td>\n",
              "      <td>Science and Culture</td>\n",
              "    </tr>\n",
              "    <tr>\n",
              "      <th>4</th>\n",
              "      <td>\\nاز IRA تا فارك \\n بوگوتا، پايتخت پرهرج ومرج ...</td>\n",
              "      <td>Politics</td>\n",
              "    </tr>\n",
              "    <tr>\n",
              "      <th>...</th>\n",
              "      <td>...</td>\n",
              "      <td>...</td>\n",
              "    </tr>\n",
              "    <tr>\n",
              "      <th>16673</th>\n",
              "      <td>\\nبراي ارتقاي كيفيت در بخش آموزش عالي \\nوزارت ...</td>\n",
              "      <td>Economy</td>\n",
              "    </tr>\n",
              "    <tr>\n",
              "      <th>16674</th>\n",
              "      <td>\\nديدار رهبر انقلاب اسلامي با \\nگروهي از جوانا...</td>\n",
              "      <td>Sport</td>\n",
              "    </tr>\n",
              "    <tr>\n",
              "      <th>16675</th>\n",
              "      <td>\\nبحران در دولت ائتلافي هند \\nانشعاب در حزب اي...</td>\n",
              "      <td>Miscellaneous.World News</td>\n",
              "    </tr>\n",
              "    <tr>\n",
              "      <th>16676</th>\n",
              "      <td>\\nچرا به آثار باستاني خود خنجر؟ مي زنيم! \\nآنط...</td>\n",
              "      <td>Miscellaneous</td>\n",
              "    </tr>\n",
              "    <tr>\n",
              "      <th>16677</th>\n",
              "      <td>\\nيك استاد دانشگاه: قاچاق كالا ناشي ازضعف \\nتو...</td>\n",
              "      <td>Economy</td>\n",
              "    </tr>\n",
              "  </tbody>\n",
              "</table>\n",
              "<p>16678 rows × 2 columns</p>\n",
              "</div>"
            ],
            "text/plain": [
              "                                                    Text                  Category\n",
              "Id                                                                                \n",
              "0      \\nهفت اقليم \\nآلودگي هوا پكن را تهديد مي كند \\...       Miscellaneous.Urban\n",
              "1      \\nگل و گياه زعفران زينتي \\nنام علمي: Crocus ba...             Miscellaneous\n",
              "2      \\nيادداشت \\nقانون بودجه و صنايع كوچك \\nدر شمار...                   Economy\n",
              "3      \\nدر سالروز ميلاد حضرت مهدي \\nهمايش ادبي دانش ...       Science and Culture\n",
              "4      \\nاز IRA تا فارك \\n بوگوتا، پايتخت پرهرج ومرج ...                  Politics\n",
              "...                                                  ...                       ...\n",
              "16673  \\nبراي ارتقاي كيفيت در بخش آموزش عالي \\nوزارت ...                   Economy\n",
              "16674  \\nديدار رهبر انقلاب اسلامي با \\nگروهي از جوانا...                     Sport\n",
              "16675  \\nبحران در دولت ائتلافي هند \\nانشعاب در حزب اي...  Miscellaneous.World News\n",
              "16676  \\nچرا به آثار باستاني خود خنجر؟ مي زنيم! \\nآنط...             Miscellaneous\n",
              "16677  \\nيك استاد دانشگاه: قاچاق كالا ناشي ازضعف \\nتو...                   Economy\n",
              "\n",
              "[16678 rows x 2 columns]"
            ]
          },
          "metadata": {
            "tags": []
          },
          "execution_count": 67
        }
      ]
    },
    {
      "cell_type": "code",
      "metadata": {
        "id": "VfAeEcqtM8h3"
      },
      "source": [
        "df.drop(columns=['Text'], inplace=True)"
      ],
      "execution_count": null,
      "outputs": []
    },
    {
      "cell_type": "code",
      "metadata": {
        "colab": {
          "base_uri": "https://localhost:8080/",
          "height": 390
        },
        "id": "1G_5Yu0a-PGC",
        "outputId": "d4af506f-90b4-4ed9-abc7-4dfbbe1d8b03"
      },
      "source": [
        "df.head(10)"
      ],
      "execution_count": null,
      "outputs": [
        {
          "output_type": "execute_result",
          "data": {
            "text/html": [
              "<div>\n",
              "<style scoped>\n",
              "    .dataframe tbody tr th:only-of-type {\n",
              "        vertical-align: middle;\n",
              "    }\n",
              "\n",
              "    .dataframe tbody tr th {\n",
              "        vertical-align: top;\n",
              "    }\n",
              "\n",
              "    .dataframe thead th {\n",
              "        text-align: right;\n",
              "    }\n",
              "</style>\n",
              "<table border=\"1\" class=\"dataframe\">\n",
              "  <thead>\n",
              "    <tr style=\"text-align: right;\">\n",
              "      <th></th>\n",
              "      <th>Category</th>\n",
              "    </tr>\n",
              "    <tr>\n",
              "      <th>Id</th>\n",
              "      <th></th>\n",
              "    </tr>\n",
              "  </thead>\n",
              "  <tbody>\n",
              "    <tr>\n",
              "      <th>0</th>\n",
              "      <td>Miscellaneous.Urban</td>\n",
              "    </tr>\n",
              "    <tr>\n",
              "      <th>1</th>\n",
              "      <td>Miscellaneous</td>\n",
              "    </tr>\n",
              "    <tr>\n",
              "      <th>2</th>\n",
              "      <td>Economy</td>\n",
              "    </tr>\n",
              "    <tr>\n",
              "      <th>3</th>\n",
              "      <td>Science and Culture</td>\n",
              "    </tr>\n",
              "    <tr>\n",
              "      <th>4</th>\n",
              "      <td>Politics</td>\n",
              "    </tr>\n",
              "    <tr>\n",
              "      <th>5</th>\n",
              "      <td>Politics</td>\n",
              "    </tr>\n",
              "    <tr>\n",
              "      <th>6</th>\n",
              "      <td>Economy</td>\n",
              "    </tr>\n",
              "    <tr>\n",
              "      <th>7</th>\n",
              "      <td>Miscellaneous.Urban</td>\n",
              "    </tr>\n",
              "    <tr>\n",
              "      <th>8</th>\n",
              "      <td>Miscellaneous.Urban</td>\n",
              "    </tr>\n",
              "    <tr>\n",
              "      <th>9</th>\n",
              "      <td>Miscellaneous</td>\n",
              "    </tr>\n",
              "  </tbody>\n",
              "</table>\n",
              "</div>"
            ],
            "text/plain": [
              "               Category\n",
              "Id                     \n",
              "0   Miscellaneous.Urban\n",
              "1         Miscellaneous\n",
              "2               Economy\n",
              "3   Science and Culture\n",
              "4              Politics\n",
              "5              Politics\n",
              "6               Economy\n",
              "7   Miscellaneous.Urban\n",
              "8   Miscellaneous.Urban\n",
              "9         Miscellaneous"
            ]
          },
          "metadata": {
            "tags": []
          },
          "execution_count": 69
        }
      ]
    },
    {
      "cell_type": "markdown",
      "metadata": {
        "id": "rtiQWAob3vX1"
      },
      "source": [
        "# save predictions"
      ]
    },
    {
      "cell_type": "code",
      "metadata": {
        "id": "b3Q9-JuzbPTs"
      },
      "source": [
        "df.to_csv(\"submition.csv\")"
      ],
      "execution_count": null,
      "outputs": []
    },
    {
      "cell_type": "code",
      "metadata": {
        "id": "jLVh1xt9zfpX"
      },
      "source": [
        ""
      ],
      "execution_count": null,
      "outputs": []
    }
  ]
}